{
 "cells": [
  {
   "cell_type": "code",
   "execution_count": 36,
   "id": "95ed546d",
   "metadata": {},
   "outputs": [],
   "source": [
    "import numpy as np\n",
    "from numpy.random import default_rng\n",
    "np.set_printoptions(precision=5, suppress=True)"
   ]
  },
  {
   "cell_type": "code",
   "execution_count": 37,
   "id": "e63cfade",
   "metadata": {},
   "outputs": [],
   "source": [
    "import math"
   ]
  },
  {
   "cell_type": "code",
   "execution_count": 38,
   "id": "dbc4243a",
   "metadata": {},
   "outputs": [],
   "source": [
    "S0 = 100\n",
    "r = 0.05\n",
    "sigma = 0.2\n",
    "T = 1.0\n",
    "I = 10000\n"
   ]
  },
  {
   "cell_type": "code",
   "execution_count": 39,
   "id": "4e205a5c",
   "metadata": {},
   "outputs": [],
   "source": [
    "rng = default_rng(100)"
   ]
  },
  {
   "cell_type": "code",
   "execution_count": 40,
   "id": "21aac090",
   "metadata": {},
   "outputs": [],
   "source": [
    "ST = S0 * np.exp((r - sigma ** 2 / 2) * T + sigma * math.sqrt(T) * rng.standard_normal(I))"
   ]
  },
  {
   "cell_type": "code",
   "execution_count": 41,
   "id": "d8bca472",
   "metadata": {},
   "outputs": [
    {
     "data": {
      "text/plain": [
       "array([ 81.7, 109.2, 120.5, 114.9,  85. , 127.7, 118.6, 118.6])"
      ]
     },
     "execution_count": 41,
     "metadata": {},
     "output_type": "execute_result"
    }
   ],
   "source": [
    "ST[:8].round(1)"
   ]
  },
  {
   "cell_type": "code",
   "execution_count": 42,
   "id": "6f2c159e",
   "metadata": {},
   "outputs": [
    {
     "data": {
      "text/plain": [
       "np.float64(105.6675325917807)"
      ]
     },
     "execution_count": 42,
     "metadata": {},
     "output_type": "execute_result"
    }
   ],
   "source": [
    "ST.mean()"
   ]
  },
  {
   "cell_type": "code",
   "execution_count": 43,
   "id": "5ad7880d",
   "metadata": {},
   "outputs": [
    {
     "data": {
      "text/plain": [
       "105.12710963760242"
      ]
     },
     "execution_count": 43,
     "metadata": {},
     "output_type": "execute_result"
    }
   ],
   "source": [
    "S0 * math.exp(r * T)"
   ]
  },
  {
   "cell_type": "code",
   "execution_count": 44,
   "id": "8bd3e419",
   "metadata": {},
   "outputs": [],
   "source": [
    "from pylab import mpl, plt\n",
    "plt.style.use('seaborn-v0_8-whitegrid')\n",
    "mpl.rcParams['savefig.dpi'] = 300\n",
    "mpl.rcParams['font.family'] = 'serif'"
   ]
  },
  {
   "cell_type": "code",
   "execution_count": 45,
   "id": "1acec3e3",
   "metadata": {},
   "outputs": [
    {
     "data": {
      "text/plain": [
       "<matplotlib.legend.Legend at 0x2c08e17e0e0>"
      ]
     },
     "execution_count": 45,
     "metadata": {},
     "output_type": "execute_result"
    },
    {
     "data": {
      "image/png": "[encoded data removed]",
      "text/plain": [
       "<Figure size 1000x600 with 1 Axes>"
      ]
     },
     "metadata": {},
     "output_type": "display_data"
    }
   ],
   "source": [
    "plt.figure(figsize=(10, 6))\n",
    "plt.hist(ST, bins=35, label='frequency')\n",
    "plt.axvline(ST.mean(), color='r', label='mean')\n",
    "plt.axvline(ST.mean() + ST.std(), color='y', label='sd up')\n",
    "plt.axvline(ST.mean() - ST.std(), color = 'y', label = 'sd down')\n",
    "plt.legend(loc = 0)"
   ]
  },
  {
   "cell_type": "code",
   "execution_count": 46,
   "id": "dc6d9a59",
   "metadata": {},
   "outputs": [],
   "source": [
    "K = 105"
   ]
  },
  {
   "cell_type": "code",
   "execution_count": 47,
   "id": "48402ece",
   "metadata": {},
   "outputs": [],
   "source": [
    "CT = np.maximum(ST - K, 0)"
   ]
  },
  {
   "cell_type": "code",
   "execution_count": 48,
   "id": "42f23b7a",
   "metadata": {},
   "outputs": [
    {
     "data": {
      "text/plain": [
       "array([ 0. ,  4.2, 15.5,  9.9,  0. , 22.7, 13.6, 13.6])"
      ]
     },
     "execution_count": 48,
     "metadata": {},
     "output_type": "execute_result"
    }
   ],
   "source": [
    "CT[:8].round(1)"
   ]
  },
  {
   "cell_type": "code",
   "execution_count": 49,
   "id": "535ec3ba",
   "metadata": {},
   "outputs": [],
   "source": [
    "C0 = math.exp(-r * T) * CT.mean()"
   ]
  },
  {
   "cell_type": "code",
   "execution_count": 50,
   "id": "165494b0",
   "metadata": {},
   "outputs": [
    {
     "data": {
      "text/plain": [
       "np.float64(8.288763195530931)"
      ]
     },
     "execution_count": 50,
     "metadata": {},
     "output_type": "execute_result"
    }
   ],
   "source": [
    "C0"
   ]
  },
  {
   "cell_type": "code",
   "execution_count": 52,
   "id": "cc937014",
   "metadata": {},
   "outputs": [],
   "source": [
    "B0 = 100"
   ]
  },
  {
   "cell_type": "code",
   "execution_count": 53,
   "id": "85c6a3bb",
   "metadata": {},
   "outputs": [],
   "source": [
    "M0 = np.array((B0, S0))"
   ]
  },
  {
   "cell_type": "code",
   "execution_count": 54,
   "id": "f3199ee1",
   "metadata": {},
   "outputs": [],
   "source": [
    "BT = B0 * np.ones(len(ST)) * math.exp(r * T)"
   ]
  },
  {
   "cell_type": "code",
   "execution_count": 55,
   "id": "697ead8f",
   "metadata": {},
   "outputs": [
    {
     "data": {
      "text/plain": [
       "array([105.12710964, 105.12710964, 105.12710964, 105.12710964])"
      ]
     },
     "execution_count": 55,
     "metadata": {},
     "output_type": "execute_result"
    }
   ],
   "source": [
    "BT[:4]"
   ]
  },
  {
   "cell_type": "code",
   "execution_count": 56,
   "id": "c95e9efb",
   "metadata": {},
   "outputs": [],
   "source": [
    "M = np.array((BT, ST)).T"
   ]
  },
  {
   "cell_type": "code",
   "execution_count": 57,
   "id": "4b783546",
   "metadata": {},
   "outputs": [
    {
     "data": {
      "text/plain": [
       "array([[105.12710964,  81.74954603],\n",
       "       [105.12710964, 109.19347911],\n",
       "       [105.12710964, 120.46280099],\n",
       "       ...,\n",
       "       [105.12710964,  71.106244  ],\n",
       "       [105.12710964, 105.32037868],\n",
       "       [105.12710964, 134.77647299]], shape=(10000, 2))"
      ]
     },
     "execution_count": 57,
     "metadata": {},
     "output_type": "execute_result"
    }
   ],
   "source": [
    "M"
   ]
  },
  {
   "cell_type": "code",
   "execution_count": 58,
   "id": "51b85a39",
   "metadata": {},
   "outputs": [],
   "source": [
    "phi = np.linalg.lstsq(M, CT, rcond=None)[0]"
   ]
  },
  {
   "cell_type": "code",
   "execution_count": 59,
   "id": "5700d68f",
   "metadata": {},
   "outputs": [
    {
     "data": {
      "text/plain": [
       "array([-0.51089468,  0.59074549])"
      ]
     },
     "execution_count": 59,
     "metadata": {},
     "output_type": "execute_result"
    }
   ],
   "source": [
    "phi"
   ]
  },
  {
   "cell_type": "code",
   "execution_count": 62,
   "id": "f7d062f6",
   "metadata": {},
   "outputs": [
    {
     "data": {
      "text/plain": [
       "np.float64(3.073219545512984e-12)"
      ]
     },
     "execution_count": 62,
     "metadata": {},
     "output_type": "execute_result"
    }
   ],
   "source": [
    "np.mean((np.dot(M, phi) - CT))"
   ]
  },
  {
   "cell_type": "code",
   "execution_count": 61,
   "id": "2eb219a8",
   "metadata": {},
   "outputs": [
    {
     "data": {
      "text/plain": [
       "np.float64(7.985080895188645)"
      ]
     },
     "execution_count": 61,
     "metadata": {},
     "output_type": "execute_result"
    }
   ],
   "source": [
    "np.dot(M0, phi)"
   ]
  },
  {
   "cell_type": "code",
   "execution_count": 63,
   "id": "d912c255",
   "metadata": {},
   "outputs": [],
   "source": [
    "M0 = np.array((100, 100))"
   ]
  },
  {
   "cell_type": "code",
   "execution_count": 65,
   "id": "3b4a8142",
   "metadata": {},
   "outputs": [],
   "source": [
    "r = 0.05\n",
    "sigma = 0.2\n",
    "lmbda = 0.3\n",
    "mu = -0.3\n",
    "delta = 0.1\n",
    "rj = lmbda * (math.exp(mu + delta ** 2 / 2) - 1)\n",
    "T = 1.0\n",
    "I = 10000"
   ]
  },
  {
   "cell_type": "code",
   "execution_count": 66,
   "id": "5eb371c4",
   "metadata": {},
   "outputs": [],
   "source": [
    "BT = M0[0] * np.ones(I) * math.exp(r * T)"
   ]
  },
  {
   "cell_type": "code",
   "execution_count": 67,
   "id": "025740aa",
   "metadata": {},
   "outputs": [],
   "source": [
    "z = rng.standard_normal((2, I))\n",
    "z -= z.mean()\n",
    "z /= z.std()\n",
    "y = rng.poisson(lmbda, I)"
   ]
  },
  {
   "cell_type": "code",
   "execution_count": 68,
   "id": "1523df38",
   "metadata": {},
   "outputs": [],
   "source": [
    "ST = S0 * (\n",
    "    np.exp((r - rj - sigma ** 2 / 2) * T + sigma * math.sqrt(T) * z[0] + (np.exp(mu + delta * z[1]) - 1) * y)\n",
    ")"
   ]
  },
  {
   "cell_type": "code",
   "execution_count": 69,
   "id": "82125ccb",
   "metadata": {},
   "outputs": [
    {
     "data": {
      "text/plain": [
       "np.float64(100.86235512563601)"
      ]
     },
     "execution_count": 69,
     "metadata": {},
     "output_type": "execute_result"
    }
   ],
   "source": [
    "ST.mean() * math.exp(-r * T)"
   ]
  },
  {
   "cell_type": "code",
   "execution_count": 70,
   "id": "423968e6",
   "metadata": {},
   "outputs": [
    {
     "data": {
      "text/plain": [
       "<matplotlib.legend.Legend at 0x2c08e207cd0>"
      ]
     },
     "execution_count": 70,
     "metadata": {},
     "output_type": "execute_result"
    },
    {
     "data": {
      "image/png": "[encoded data removed]",
      "text/plain": [
       "<Figure size 1000x600 with 1 Axes>"
      ]
     },
     "metadata": {},
     "output_type": "display_data"
    }
   ],
   "source": [
    "plt.figure(figsize=(10, 6))\n",
    "plt.hist(ST, bins=35, label='frequency')\n",
    "plt.axvline(ST.mean(), color='r', label='mean')\n",
    "plt.axvline(ST.mean() + ST.std(), color='y', label='sd up')\n",
    "plt.axvline(ST.mean() - ST.std(), color = 'y', label = 'sd down')\n",
    "plt.legend(loc = 0)"
   ]
  }
 ],
 "metadata": {
  "kernelspec": {
   "display_name": "Python 3",
   "language": "python",
   "name": "python3"
  },
  "language_info": {
   "codemirror_mode": {
    "name": "ipython",
    "version": 3
   },
   "file_extension": ".py",
   "mimetype": "text/x-python",
   "name": "python",
   "nbconvert_exporter": "python",
   "pygments_lexer": "ipython3",
   "version": "3.10.11"
  }
 },
 "nbformat": 4,
 "nbformat_minor": 5
}
